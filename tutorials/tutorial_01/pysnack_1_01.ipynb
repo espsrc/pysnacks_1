{
 "cells": [
  {
   "cell_type": "markdown",
   "id": "3fb163c5-5522-4e03-be72-f02cb758fb10",
   "metadata": {},
   "source": [
    "# Outline of the session. What will we learn?\n",
    "\n",
    "This is an introductory session, where we learn the basics of the tools that we will use in the following sessions.\n",
    "\n",
    "- Astropy Main ingredients: units and constants\n",
    "- Astropy coordinates\n",
    "- Astroquery: Vizier queries\n",
    "- Simple Gaia queries"
   ]
  },
  {
   "cell_type": "code",
   "execution_count": null,
   "id": "16aca605-5f69-4a83-a3ba-0168d0be92e7",
   "metadata": {},
   "outputs": [],
   "source": [
    "import numpy as np\n",
    "import matplotlib.pyplot as plt\n",
    "\n",
    "# These will be loaded during the tutorial, when needed:\n",
    "# from astropy import units as u\n",
    "# from astropy.coordinates import SkyCoord\n",
    "# from astroquery.simbad import Simbad\n",
    "# from astropy.coordinates import Angle\n",
    "# from astroquery.vizier import Vizier\n",
    "# from astroquery.gaia import Gaia"
   ]
  },
  {
   "cell_type": "markdown",
   "id": "e52393f2-af24-4ca0-b449-3ee233538d93",
   "metadata": {
    "tags": []
   },
   "source": [
    "# Astropy Main ingredients\n",
    "The Astropy units and quantities documentation can be found [here](https://docs.astropy.org/en/stable/units/index.html)"
   ]
  },
  {
   "cell_type": "code",
   "execution_count": null,
   "id": "30a8d04d-d69b-45d8-bee8-719d19f034d0",
   "metadata": {},
   "outputs": [],
   "source": [
    "from astropy import units as u"
   ]
  },
  {
   "cell_type": "code",
   "execution_count": null,
   "id": "8de5c71f-0554-40cf-8440-b8751b18ec56",
   "metadata": {},
   "outputs": [],
   "source": [
    "d = 10 * u.meter  \n",
    "d"
   ]
  },
  {
   "cell_type": "code",
   "execution_count": null,
   "id": "19c00e24-357f-4454-bce3-47c854f55ccf",
   "metadata": {},
   "outputs": [],
   "source": [
    "type(d)"
   ]
  },
  {
   "cell_type": "markdown",
   "id": "0f377e27-092f-4e3b-9899-6e19bad14830",
   "metadata": {},
   "source": [
    "A `Quantity` is formed by a `value` (can be a number, a list, a numpy array, etc) and the associated `unit`."
   ]
  },
  {
   "cell_type": "code",
   "execution_count": null,
   "id": "daff2e95-9d45-4698-9eab-493ca56cd6de",
   "metadata": {},
   "outputs": [],
   "source": [
    "print(d.value)\n",
    "print(d.unit)"
   ]
  },
  {
   "cell_type": "code",
   "execution_count": null,
   "id": "5ef53763-0544-4f2c-a149-4b5c719de928",
   "metadata": {},
   "outputs": [],
   "source": [
    "a = [30,60,90]*u.deg\n",
    "a"
   ]
  },
  {
   "cell_type": "code",
   "execution_count": null,
   "id": "49705491-8c20-4117-8e7e-453032c25e52",
   "metadata": {},
   "outputs": [],
   "source": [
    "t = np.arange(6)*u.h\n",
    "t"
   ]
  },
  {
   "cell_type": "markdown",
   "id": "6a59631a-7c49-470d-9d8f-70d0d86cc306",
   "metadata": {},
   "source": [
    "### Operations with Quantities"
   ]
  },
  {
   "cell_type": "markdown",
   "id": "534a28cd-0ce5-426c-90b7-108134ba5807",
   "metadata": {},
   "source": [
    "You can operate with `Quantities` of the same type, even if the units are different, and astropy will make sure that the operations are consistent. When adding quantities, the result will be expressed in the units of the first quantity."
   ]
  },
  {
   "cell_type": "code",
   "execution_count": null,
   "id": "9f941af9-1cc4-4853-8e8b-d6ae2ff1092f",
   "metadata": {},
   "outputs": [],
   "source": [
    "d + 15*u.cm"
   ]
  },
  {
   "cell_type": "code",
   "execution_count": null,
   "id": "196a2ab1-1010-43af-8a4e-715b2da42203",
   "metadata": {},
   "outputs": [],
   "source": [
    "a + 15*u.arcmin"
   ]
  },
  {
   "cell_type": "code",
   "execution_count": null,
   "id": "db0d7edd-0e38-41b3-ab97-91af0bfc407e",
   "metadata": {},
   "outputs": [],
   "source": [
    "t + 525*u.second"
   ]
  },
  {
   "cell_type": "code",
   "execution_count": null,
   "id": "aec3d5ce-9789-4d7b-8df2-4223f200caa1",
   "metadata": {},
   "outputs": [],
   "source": [
    "#d+a"
   ]
  },
  {
   "cell_type": "markdown",
   "id": "e8aafdd9-ba06-410d-9860-9b53b4f3724f",
   "metadata": {},
   "source": [
    "### Unit conversion and operations\n",
    "\n",
    "The `Quantity` objects have a method to convert to any units available in astropy: `.to()`, which accepts the name of the unit as a string. "
   ]
  },
  {
   "cell_type": "code",
   "execution_count": null,
   "id": "8a11b9c9-c0b2-4be5-9c5e-8e4bf9e56b42",
   "metadata": {},
   "outputs": [],
   "source": [
    "d.to('km')"
   ]
  },
  {
   "cell_type": "code",
   "execution_count": null,
   "id": "1b61b0f4-207d-4e9a-8f88-1ecc18492d0c",
   "metadata": {},
   "outputs": [],
   "source": [
    "d.to(u.km)"
   ]
  },
  {
   "cell_type": "code",
   "execution_count": null,
   "id": "6dfb1f43-65cd-47ba-8d32-fadf4f965bba",
   "metadata": {},
   "outputs": [],
   "source": [
    "a.to('milliarcsecond')"
   ]
  },
  {
   "cell_type": "markdown",
   "id": "8729c0e8-d34e-4975-b117-47db699e8667",
   "metadata": {},
   "source": [
    "astropy understands a large variety of units. You can find all units available and their name aliases in [module-astropy.units](https://docs.astropy.org/en/stable/units/index.html#module-astropy.units)."
   ]
  },
  {
   "cell_type": "code",
   "execution_count": null,
   "id": "154147d5-dd0d-488d-89f6-a422e394e33e",
   "metadata": {},
   "outputs": [],
   "source": [
    "100*u.km/(t + 1*u.min)"
   ]
  },
  {
   "cell_type": "code",
   "execution_count": null,
   "id": "a8e3a43d-2b17-4284-ac45-9b79a83b4906",
   "metadata": {},
   "outputs": [],
   "source": [
    "v = 100 * u.meter / u.second\n",
    "v"
   ]
  },
  {
   "cell_type": "code",
   "execution_count": null,
   "id": "7d3f42a1-9089-45bd-bef4-68226ba8cb15",
   "metadata": {},
   "outputs": [],
   "source": [
    "v.to(u.km/u.day)"
   ]
  },
  {
   "cell_type": "code",
   "execution_count": null,
   "id": "1f7a46ca-bfb5-44dd-86f2-41e20f9ae18e",
   "metadata": {},
   "outputs": [],
   "source": [
    "v.to(u.pc/u.yr)"
   ]
  },
  {
   "cell_type": "markdown",
   "id": "db68fdff-ceea-435e-b63d-e9fbeb015d74",
   "metadata": {},
   "source": [
    "### Other operations\n",
    "We can also apply more complex functions, for example any of the `numpy` statistical functions will work.\n"
   ]
  },
  {
   "cell_type": "code",
   "execution_count": null,
   "id": "6fd82027-3c2f-43af-a4af-2dbb20a9ca76",
   "metadata": {},
   "outputs": [],
   "source": [
    "print(t)\n",
    "np.mean(t)"
   ]
  },
  {
   "cell_type": "code",
   "execution_count": null,
   "id": "670c9f85-d75f-467c-8822-8f8c8fd1a760",
   "metadata": {},
   "outputs": [],
   "source": [
    "angle_deg = 33*u.deg\n",
    "angle_arcsec = angle_deg.to(u.arcsec)\n",
    "print(np.cos(angle_deg), angle_deg)\n",
    "print(np.cos(angle_arcsec), angle_arcsec)"
   ]
  },
  {
   "cell_type": "code",
   "execution_count": null,
   "id": "8b12ed55-0417-436e-af44-b60e4f0e0056",
   "metadata": {},
   "outputs": [],
   "source": [
    "r = np.random.randn(4,4)*u.cm\n",
    "print(r)\n",
    "np.min(r).to('m')"
   ]
  },
  {
   "cell_type": "code",
   "execution_count": null,
   "id": "7c5951e4-f41e-4215-bb46-872fed774498",
   "metadata": {},
   "outputs": [],
   "source": [
    "Emin = 100*u.keV\n",
    "Emin"
   ]
  },
  {
   "cell_type": "code",
   "execution_count": null,
   "id": "107e26f8-1318-4896-983b-2d3bd654e306",
   "metadata": {},
   "outputs": [],
   "source": [
    "Emax = 10*u.MeV\n",
    "Emax"
   ]
  },
  {
   "cell_type": "code",
   "execution_count": null,
   "id": "f266af2d-9d79-492a-9df3-a43c74ac44f5",
   "metadata": {},
   "outputs": [],
   "source": [
    "Emax/Emin"
   ]
  },
  {
   "cell_type": "code",
   "execution_count": null,
   "id": "2db109ee-85a8-45a3-8465-2648c85d394e",
   "metadata": {},
   "outputs": [],
   "source": [
    "np.log(Emax/Emin)"
   ]
  },
  {
   "cell_type": "markdown",
   "id": "091aacb0-669e-449e-ae59-7a2d0836f625",
   "metadata": {},
   "source": [
    "An alternative way to create a `Quantity` object, which is much faster for large datasets"
   ]
  },
  {
   "cell_type": "code",
   "execution_count": null,
   "id": "d1d42a8a-b9e4-4332-b659-f381ab3138f3",
   "metadata": {},
   "outputs": [],
   "source": [
    "x = u.Quantity(np.arange(10), unit='m')\n",
    "x"
   ]
  },
  {
   "cell_type": "markdown",
   "id": "aa3f6a9d-c8da-4e10-a13d-29424e1a34ee",
   "metadata": {
    "tags": []
   },
   "source": [
    "### ⛏ Exercise 1.1\n",
    "\n",
    "Consider the triangle rectangle with angles 90 deg, 40 deg and 50 deg. Create 3 variables `a1`, `a2`, `a3` and assign the three angles in degrees.\n",
    "\n",
    "Convert `a1` to arcmin, `a2` to arcsec and `a3` to milliarcsec and assign them to variables `a1_arcmin`, `a2_arcsec` and `a3_mas`, respectively, and print them.  \n",
    "\n",
    "Compute the sum of the three converted angles, `a_sum`. What are the units of this variable?\n",
    "\n",
    "Verify that the sum is 180 deg by using `a_sum == 180*u.deg`"
   ]
  },
  {
   "cell_type": "code",
   "execution_count": null,
   "id": "ed375145-c639-4bd0-9d48-e6ca84067025",
   "metadata": {},
   "outputs": [],
   "source": []
  },
  {
   "cell_type": "markdown",
   "id": "d500cde5-c29c-40fc-a6c9-e343e773c8d9",
   "metadata": {},
   "source": [
    "### Physical constants\n",
    "More details on the available constants can be found [here](https://docs.astropy.org/en/stable/constants/index.html#module-astropy.constants)."
   ]
  },
  {
   "cell_type": "code",
   "execution_count": null,
   "id": "bf81db6b-8ba0-4288-8f42-8ed18c80c06c",
   "metadata": {},
   "outputs": [],
   "source": [
    "from astropy import constants as const\n",
    "# speed of light\n",
    "speed_of_light = const.c\n",
    "speed_of_light"
   ]
  },
  {
   "cell_type": "code",
   "execution_count": null,
   "id": "3ee9d882-99fb-4553-bf4b-d4d4d69813e9",
   "metadata": {},
   "outputs": [],
   "source": [
    "print(speed_of_light)"
   ]
  },
  {
   "cell_type": "code",
   "execution_count": null,
   "id": "52ff5632-35fe-4d21-8744-98e1e5bc9041",
   "metadata": {},
   "outputs": [],
   "source": [
    "const.M_sun"
   ]
  },
  {
   "cell_type": "code",
   "execution_count": null,
   "id": "7fd9aa8b-9987-408a-b150-7f419c0c0644",
   "metadata": {},
   "outputs": [],
   "source": [
    "const.M_sun.to('g')"
   ]
  },
  {
   "cell_type": "code",
   "execution_count": null,
   "id": "11a8fabd-f496-4501-a255-faa64527c34b",
   "metadata": {},
   "outputs": [],
   "source": [
    "# distance sun - earth\n",
    "distance_sun = 1 * u.au\n",
    "\n",
    "# time\n",
    "time_sun = distance_sun / speed_of_light\n",
    "time_sun"
   ]
  },
  {
   "cell_type": "code",
   "execution_count": null,
   "id": "37261038-8de7-47f7-b9a9-24f1292b6d42",
   "metadata": {},
   "outputs": [],
   "source": [
    "time_sun.to('min')"
   ]
  },
  {
   "cell_type": "code",
   "execution_count": null,
   "id": "84f59a3d-0fa5-461d-9419-00453cc3b83c",
   "metadata": {},
   "outputs": [],
   "source": [
    "print(f\"SI: {distance_sun.si}\")\n",
    "print(f\"CGS: {distance_sun.cgs}\")"
   ]
  },
  {
   "cell_type": "markdown",
   "id": "7cfa4840-99da-4fe9-8714-fc3303c809d7",
   "metadata": {
    "tags": []
   },
   "source": [
    "### ⛏ Exercise 1.2\n",
    "Assuming that the distance to the Galactic Center is 8 kpc, compute the time it takes for light to travel from the Galactic Center to the Earth, in years."
   ]
  },
  {
   "cell_type": "markdown",
   "id": "71d06d53-0170-426b-adc9-df8f5af0e102",
   "metadata": {},
   "source": [
    "# Astropy Angles and Coordinates"
   ]
  },
  {
   "cell_type": "code",
   "execution_count": null,
   "id": "d121dfe9-eb37-4716-bfee-97fcb46550bf",
   "metadata": {},
   "outputs": [],
   "source": [
    "from astropy.coordinates import Angle\n",
    "\n",
    "Angle(24*u.deg)"
   ]
  },
  {
   "cell_type": "code",
   "execution_count": null,
   "id": "0f1b2f64-d8ff-4e59-9163-f86a93afbf1c",
   "metadata": {},
   "outputs": [],
   "source": [
    "a = Angle(1*u.deg)\n",
    "print(a.deg)\n",
    "print(a.arcmin)\n",
    "print(a.arcsec)"
   ]
  },
  {
   "cell_type": "code",
   "execution_count": null,
   "id": "4b784da0-234a-4e5a-b784-6db17b43d5e9",
   "metadata": {},
   "outputs": [],
   "source": [
    "angles = Angle([1, 4, 6, 15, -3, 2, 10, 2, 0]*u.deg)\n",
    "angles"
   ]
  },
  {
   "cell_type": "code",
   "execution_count": null,
   "id": "85fff072-f34c-4bca-b33b-b63f88217e5c",
   "metadata": {},
   "outputs": [],
   "source": [
    "angles.to('arcmin')"
   ]
  },
  {
   "cell_type": "code",
   "execution_count": null,
   "id": "f3410787-23d8-4edc-9017-f384b30d1883",
   "metadata": {},
   "outputs": [],
   "source": [
    "angles.sort()  # The variable angles will be modified insitu.\n",
    "angles.arcsec"
   ]
  },
  {
   "cell_type": "code",
   "execution_count": null,
   "id": "9c592780-6a0c-4996-b71e-66619ecae76b",
   "metadata": {},
   "outputs": [],
   "source": [
    "angles.sum()"
   ]
  },
  {
   "cell_type": "markdown",
   "id": "1555be4f-6642-4f5b-a0b5-7f2c428d7d42",
   "metadata": {},
   "source": [
    "Let's work with coordinates. More details on the use of coordinates can be find [here](https://docs.astropy.org/en/stable/coordinates/index.html)."
   ]
  },
  {
   "cell_type": "code",
   "execution_count": null,
   "id": "0d991dd5-c0c7-4ead-b9d3-ed8a0336203d",
   "metadata": {},
   "outputs": [],
   "source": [
    "from astropy.coordinates import SkyCoord"
   ]
  },
  {
   "cell_type": "markdown",
   "id": "1c84c1cf-e247-4142-b57e-33ad8a15133a",
   "metadata": {},
   "source": [
    "Note that it is important to define the reference frame (ICRS, FK5, Galactic, etc) to correctly identify astronomical coordinates. More details in [astropy Using and Designing Coordinate Frames](https://docs.astropy.org/en/stable/coordinates/frames.html). If not specified, the default is `ICRS`. The frame classes that are built in to astropy are ICRS, FK5, FK4, FK4NoETerms, and Galactic."
   ]
  },
  {
   "cell_type": "code",
   "execution_count": null,
   "id": "e7a96871-1ed7-4621-bd7c-b4f47d4cf82b",
   "metadata": {},
   "outputs": [],
   "source": [
    "c = SkyCoord(ra=10.625*u.degree,\n",
    "             dec=41.2*u.degree,\n",
    "             frame='icrs')\n",
    "c"
   ]
  },
  {
   "cell_type": "markdown",
   "id": "1884a472-e8d0-4001-9b4c-7e2387166159",
   "metadata": {},
   "source": [
    "Multiple ways to initialize the coordinates, and astropy is usually very clever interpreting what you want."
   ]
  },
  {
   "cell_type": "code",
   "execution_count": null,
   "id": "03441b94-622e-4c6f-b239-18119e333b28",
   "metadata": {},
   "outputs": [],
   "source": [
    "c1 = SkyCoord(10.625, 41.2, frame='icrs', unit='deg')\n",
    "c2 = SkyCoord('00h42m30s', '+41d12m00s', frame='icrs')\n",
    "c3 = SkyCoord('00h42.50m', '+41d12m')\n",
    "c4 = SkyCoord('00 42 30 +41 12 00', unit=(u.hourangle, u.deg))\n",
    "c5 = SkyCoord('00:42.5 +41:12', unit=(u.hourangle, u.deg))\n",
    "print(c1, c2, c3, c4, c5)"
   ]
  },
  {
   "cell_type": "markdown",
   "id": "12ee6467-e7eb-4be0-a325-f6dca3adf87b",
   "metadata": {},
   "source": [
    "The coordinates can be accessed by R.A. or Declination, and can be converted to different units."
   ]
  },
  {
   "cell_type": "code",
   "execution_count": null,
   "id": "42ab4899-6f96-40e6-bdb4-fa5aa864fdcc",
   "metadata": {},
   "outputs": [],
   "source": [
    "print(c.ra)\n",
    "print(c.dec.arcsec)\n",
    "print(c.ra.radian)\n",
    "print(c.ra.hms)\n",
    "print(c.dec.dms)"
   ]
  },
  {
   "cell_type": "markdown",
   "id": "2cd83c89-2829-4612-96be-5369cd9d4327",
   "metadata": {},
   "source": [
    "You can also initialize arrays of coordinates. Just parse a `numpy` array or a python `list` to the variables."
   ]
  },
  {
   "cell_type": "code",
   "execution_count": null,
   "id": "e85d597f-2a24-4293-bba4-53a88c3d2335",
   "metadata": {},
   "outputs": [],
   "source": [
    "cs = SkyCoord(np.random.uniform(0, 180, 20)*u.deg,\n",
    "              np.random.uniform(-90, 90, 20)*u.deg,\n",
    "              frame='galactic')\n",
    "cs"
   ]
  },
  {
   "cell_type": "code",
   "execution_count": null,
   "id": "40dc1b2d-26c4-4d60-95fc-adc68186f41f",
   "metadata": {},
   "outputs": [],
   "source": [
    "cs.to_string('hmsdms')"
   ]
  },
  {
   "cell_type": "code",
   "execution_count": null,
   "id": "cfb47edc-5a3a-481c-9e38-1c7a9ae7c599",
   "metadata": {},
   "outputs": [],
   "source": [
    "plt.plot(cs.l, cs.b, 'o')"
   ]
  },
  {
   "cell_type": "markdown",
   "id": "82f751de-da46-4602-a0f4-6bd06a01008e",
   "metadata": {},
   "source": [
    "Including observation time and convert to observational `QTable`. `QTable` and `Table` are the basic astropy table representations. We will explain them in detail in tutorial 02."
   ]
  },
  {
   "cell_type": "code",
   "execution_count": null,
   "id": "e774b864-8ef8-4010-85b1-64d742632ced",
   "metadata": {},
   "outputs": [],
   "source": [
    "from astropy.time import Time"
   ]
  },
  {
   "cell_type": "code",
   "execution_count": null,
   "id": "3200e7bf-d21e-4680-867a-b5b8f91b92da",
   "metadata": {},
   "outputs": [],
   "source": [
    "sc = SkyCoord(ra=[40, 70]*u.deg,\n",
    "              dec=[0, -20]*u.deg,\n",
    "              obstime=Time([2000.2, 2010.123], format='decimalyear'))\n",
    "tab =  sc.to_table()\n",
    "tab"
   ]
  },
  {
   "cell_type": "code",
   "execution_count": null,
   "id": "a0afdac2-b242-4375-8bd6-ba775dd0c6a9",
   "metadata": {},
   "outputs": [],
   "source": [
    "print(tab['obstime'])\n",
    "print(tab['obstime'].mjd)\n",
    "print(tab['obstime'].iso)\n",
    "print(tab['obstime'].fits)"
   ]
  },
  {
   "cell_type": "markdown",
   "id": "febcd402-f579-4983-ba30-2247b38f700b",
   "metadata": {},
   "source": [
    "Coordinates: transformation of the reference system"
   ]
  },
  {
   "cell_type": "code",
   "execution_count": null,
   "id": "41cbb5e4-40ce-4056-816e-a653e6df9af4",
   "metadata": {},
   "outputs": [],
   "source": [
    "c_icrs = SkyCoord(ra=10.68458*u.degree,\n",
    "                  dec=41.26917*u.degree,\n",
    "                  frame='icrs')\n",
    "c_galactic = c_icrs.galactic  \n",
    "c_galactic"
   ]
  },
  {
   "cell_type": "code",
   "execution_count": null,
   "id": "b5fa59fa-0340-460f-b5c7-d9532d5c413e",
   "metadata": {},
   "outputs": [],
   "source": [
    "c_galactic.transform_to('icrs')"
   ]
  },
  {
   "cell_type": "markdown",
   "id": "5a0124b7-5750-4262-88f4-cdccd8de412d",
   "metadata": {},
   "source": [
    "Distance between two coordinates"
   ]
  },
  {
   "cell_type": "code",
   "execution_count": null,
   "id": "788bc3da-56bd-4e53-89f7-6e7f36ea854a",
   "metadata": {},
   "outputs": [],
   "source": [
    "c1 = SkyCoord(ra=10*u.degree, dec=9*u.degree, frame='icrs')\n",
    "c2 = SkyCoord(ra=11*u.degree, dec=10*u.degree, frame='fk5')\n",
    "c1.separation(c2)  # Differing frames handled correctly  "
   ]
  },
  {
   "cell_type": "markdown",
   "id": "c4839e8d-7f3f-4d93-a8c8-d18a0fb433bc",
   "metadata": {},
   "source": [
    "Search coordinates by source name"
   ]
  },
  {
   "cell_type": "code",
   "execution_count": null,
   "id": "866b3fb1-794c-4cf9-9920-220614f6c10c",
   "metadata": {},
   "outputs": [],
   "source": [
    "SkyCoord.from_name(\"PSR J1012+5307\")"
   ]
  },
  {
   "cell_type": "markdown",
   "id": "3980044c-7020-4b7b-abd5-f53519d72996",
   "metadata": {},
   "source": [
    "### ⛏ Exercise 1.3\n",
    "\n",
    "- Create a `SkyCoord` instance names `pos1` that points to R.A., Dec. '00h10m20s', '+10d20m30s' in the ICRS frame.\n",
    "- Create a another `SkyCoord` instance `pos2` with 3 different positions: R.A., Dec expressed in arcmin in the `fk5` frame as:\n",
    "  - [100, -20],\n",
    "  - [150, 0]\n",
    "  - [200, 20]\n",
    "\n",
    "- Compute the angular separation between `pos1` and each of the coordinates in `pos2`. Express them in arcmin.\n",
    "- What is the minimum, maximum and mean separation in arcsec, arcmin and deg, respectively, between `pos1` and the objects in `pos2`?\n"
   ]
  },
  {
   "cell_type": "markdown",
   "id": "97954ffc-525c-49fc-a8cc-bfcd3108d084",
   "metadata": {
    "tags": []
   },
   "source": [
    "### ⛏ Exercise 1.4\n",
    "Find the separation in arcmin between M51 and the point of the Sky in Galactic Coordinates l=10h25m47.0s and b=+10deg in galactic reference frame."
   ]
  },
  {
   "cell_type": "markdown",
   "id": "23a503b7-4436-4fa2-b938-8d3cfc9930c4",
   "metadata": {},
   "source": [
    "### 🌪 Additional fun\n",
    "\n",
    "- Make a python list with the names of the 110 Messier objects.\n",
    "- Create a table with their coordinates, as provided by `SkyCoord`.\n",
    "- Compute the angular separation between M1 and the rest of the objects.\n",
    "- Find the coordinates of the closest and the furthest Messier object from M1?\n",
    "- What is the average position of all Messier object coordinates?\n",
    "- What is the closest Simbad object to that average position? Use `Simbad.query_region` [query region](https://astroquery.readthedocs.io/en/latest/simbad/simbad.html#query-a-region).\n",
    "- Make an all-sky plot where you show the positions of the Messier objects, adding an annotation to name each one."
   ]
  },
  {
   "cell_type": "markdown",
   "id": "26c3d6e1-26dd-4547-80a0-9065b904e98f",
   "metadata": {},
   "source": [
    "### 🌪 Additional fun\n",
    "\n",
    "- Generate two arrays of 100 values following a pattern, for example a linear, a trigonometric function or a combination of both.\n",
    "- Add Gaussian noise to those arrays using `np.random.normal`. Use a `sigma` that is conmensurable to the magnitude of the values.\n",
    "- Generate an array of 100 MJD values.\n",
    "- Create a `SkyCoord` object combining the first two arrays as coordinates and the third as `obstime`.\n",
    "- Convert the coordinates to a `QTable` and show the first few rows.\n",
    "- Plot the projections of R.A., Dec. and obstime\n"
   ]
  },
  {
   "cell_type": "markdown",
   "id": "ce100498-73eb-457a-b425-ce9d7cd74010",
   "metadata": {},
   "source": [
    "# Astroquery\n",
    "[Astroquery](https://astroquery.readthedocs.io/en/latest/) is a coordinated package of astropy.\n",
    "\n",
    "It provides easy access to many different [services](https://astroquery.readthedocs.io/en/latest/#available-services), [catalogs](https://astroquery.readthedocs.io/en/latest/#catalogs) and [archives](https://astroquery.readthedocs.io/en/latest/#archives) that follow Virtual Observatory standards. In particular it provides access to Simbad, Vizier, NED, Gaia, [ESASky](https://sky.esa.int/) and many others.\n",
    "\n",
    "Some [example](https://ioa-coding.github.io/codecorners/2017_10_24_CC02_astroquery.html)"
   ]
  },
  {
   "cell_type": "markdown",
   "id": "3116fbe8-ab03-433c-9515-2067dd03720f",
   "metadata": {},
   "source": [
    "## Vizier Table Discovery"
   ]
  },
  {
   "cell_type": "code",
   "execution_count": null,
   "id": "2d605431-6610-4a48-b184-8f28bcd17033",
   "metadata": {},
   "outputs": [],
   "source": [
    "from astroquery.vizier import Vizier\n",
    "Vizier.ROW_LIMIT = -1"
   ]
  },
  {
   "cell_type": "code",
   "execution_count": null,
   "id": "1b9fd54e-8afe-49b8-b1b7-b5f2683e1299",
   "metadata": {},
   "outputs": [],
   "source": [
    "catalog_list = Vizier.find_catalogs('fermi 4fgl')\n",
    "['{}: {}'.format(k, v.description) for k, v in catalog_list.items()]"
   ]
  },
  {
   "cell_type": "code",
   "execution_count": null,
   "id": "a43389a3-da72-4606-b898-8437d6f9738e",
   "metadata": {},
   "outputs": [],
   "source": [
    "Vizier.get_catalogs('J/ApJS/247/33')"
   ]
  },
  {
   "cell_type": "code",
   "execution_count": null,
   "id": "70978ef9-cbc3-4888-a25e-0a5ff14d515a",
   "metadata": {},
   "outputs": [],
   "source": [
    "cat = Vizier.get_catalogs('J/ApJS/247/33')[0]"
   ]
  },
  {
   "cell_type": "code",
   "execution_count": null,
   "id": "61a34c1e-9c20-4a79-b988-70235beca81f",
   "metadata": {},
   "outputs": [],
   "source": [
    "cat"
   ]
  },
  {
   "cell_type": "markdown",
   "id": "4ac86db8-b2bf-401b-bf1f-e0911254846e",
   "metadata": {},
   "source": [
    "Good! Note that the tables contain unit information, so there will be no ambiguity when using the data from Vizier tables. But we can get more information, in particular the description of each column."
   ]
  },
  {
   "cell_type": "code",
   "execution_count": null,
   "id": "92110856-0f77-4045-abf1-ca54aba60c92",
   "metadata": {},
   "outputs": [],
   "source": [
    "cat.info"
   ]
  },
  {
   "cell_type": "code",
   "execution_count": null,
   "id": "a0b91fdc-b3ab-43a5-8b87-244c4a1892db",
   "metadata": {},
   "outputs": [],
   "source": [
    "ra_deg = Angle(cat['RAJ2000'])\n",
    "de_deg = Angle(cat['DEJ2000'])\n",
    "ra_deg = ra_deg.wrap_at('180d')\n",
    "\n",
    "fig = plt.figure(figsize=(10,6))\n",
    "ax = fig.add_subplot(111, projection=\"mollweide\")\n",
    "ax.scatter(ra_deg.rad, de_deg.rad, s=1)\n",
    "ax.set_xticklabels(['14h','16h','18h','20h','22h','0h','2h','4h','6h','8h','10h'])\n",
    "ax.grid(True)"
   ]
  },
  {
   "cell_type": "markdown",
   "id": "8cd8e044-8af2-460d-96fd-7f067d76835c",
   "metadata": {},
   "source": [
    "### ⛏ Exercise 1.5\n",
    "- Search Vizier catalogs related to the keyword `carmenes` (or any other you are interested).\n",
    "- Select the ID of the catalog named \"324 CARMENES M dwarfs velocities\" and download the first table.\n",
    "- Use `info` to find out the name of the columns with the coordinates.\n",
    "- Find out the minimum, maximum and mean period in the sources in this catalog.\n",
    "- Make an all-sky plot of the sources in this catalog."
   ]
  },
  {
   "cell_type": "markdown",
   "id": "dc08acfa-ee2c-4f5d-9a3f-7a415c2ef465",
   "metadata": {},
   "source": [
    "## Query a Simbad object"
   ]
  },
  {
   "cell_type": "code",
   "execution_count": null,
   "id": "735639f0-1228-48a5-9c45-6da280ba2dec",
   "metadata": {},
   "outputs": [],
   "source": [
    "result = Vizier.query_object(\"NGC 6670\")\n",
    "print(result)"
   ]
  },
  {
   "cell_type": "markdown",
   "id": "bc6e9ccc-3bb6-4871-ab70-9542e8c5c936",
   "metadata": {},
   "source": [
    "## Quick access to data from the Gaia catalog"
   ]
  },
  {
   "cell_type": "markdown",
   "id": "992b6499-57b5-41df-99f7-9b50334e075a",
   "metadata": {},
   "source": [
    "The library we will use to get Gaia data is [Astroquery](https://astroquery.readthedocs.io/en/latest/). Astroquery provides `Gaia`, which is an [object that represents a connection to the Gaia database](https://astroquery.readthedocs.io/en/latest/gaia/gaia.html).\n",
    "\n",
    "We can connect to the Gaia database like this:"
   ]
  },
  {
   "cell_type": "code",
   "execution_count": null,
   "id": "4bec0d80-559a-4fcc-afc1-22834365b3ed",
   "metadata": {},
   "outputs": [],
   "source": [
    "from astroquery.gaia import Gaia\n",
    "Gaia.ROW_LIMIT = 50\n",
    "Gaia.MAIN_GAIA_TABLE = \"gaiaedr3.gaia_source\" # Select early Data Release 3\n",
    "# Gaia.MAIN_GAIA_TABLE = \"gaiadr2.gaia_source\"  # Reselect Data Release 2, this is the default "
   ]
  },
  {
   "cell_type": "markdown",
   "id": "9e1816f8-1ffb-41dd-bfdc-c24a618deb88",
   "metadata": {},
   "source": [
    "We can easily query the Gaia catalog using the `astroquery` function `Gaia.query_object_async`, which can send query jobs to the Gaia TAP+ service. Note that the filtering options in this function are very limited, so a query may have too many results to handle. Verify your query with a low number of the parameter `Gaia.ROW_LIMIT` first. For full query functionality we should used the [Astronomical Data Query Language (ADQL)](https://www.ivoa.net/documents/ADQL/20180112/PR-ADQL-2.1-20180112.html), which we will use in Session 3. For the moment the simple query is enough for our purposes."
   ]
  },
  {
   "cell_type": "markdown",
   "id": "b2a871e8-7ce1-428e-a32c-148ad8aa978e",
   "metadata": {},
   "source": [
    "To do a basic query on the *Gaia* catalogue we just need a pointing centre and the (width, height), or the radius, of the region of interest. This is a clear case where you could build a python function to retrieve data based only on those four parameters."
   ]
  },
  {
   "cell_type": "code",
   "execution_count": null,
   "id": "3f18baa3-bb5a-46b0-af58-9ab96efe7d40",
   "metadata": {},
   "outputs": [],
   "source": [
    "sgra_coord = SkyCoord.from_name(\"Sgr A*\")\n",
    "search_radius = 50*u.arcsec\n",
    "\n",
    "sgra_coord.to_string('hmsdms')"
   ]
  },
  {
   "cell_type": "code",
   "execution_count": null,
   "id": "ed04a3dd-cd69-4e1e-a190-da0f1b2e6131",
   "metadata": {},
   "outputs": [],
   "source": [
    "# Run the actual query to the catalogue\n",
    "gaia_sgra = Gaia.query_object_async(coordinate=sgra_coord,\n",
    "                                    radius=search_radius, \n",
    "                                    columns=['ra','dec'])"
   ]
  },
  {
   "cell_type": "code",
   "execution_count": null,
   "id": "72d200af-2c37-4c99-b618-2cc38e48a496",
   "metadata": {},
   "outputs": [],
   "source": [
    "ra_relative  = gaia_sgra['ra'].to(u.arcsec) - sgra_coord.ra\n",
    "dec_relative = gaia_sgra['dec'].to(u.arcsec) - sgra_coord.dec\n",
    "\n",
    "\n",
    "plt.plot(ra_relative, dec_relative, 'ok')\n",
    "plt.plot(0, 0, '+', ms=20)"
   ]
  },
  {
   "cell_type": "code",
   "execution_count": null,
   "id": "3d58941b-0ec9-4ed6-ad85-c3a1d933a68e",
   "metadata": {},
   "outputs": [],
   "source": [
    "my_cols = data0.columns"
   ]
  },
  {
   "cell_type": "markdown",
   "id": "ff5f3ebd-f3f4-42c9-850d-03472196880d",
   "metadata": {},
   "source": [
    "### ✨ Exercise 1.6\n",
    "\n",
    "- Define the central coordinates of the cluster, `cluster_coord` of interest R.A. 130.025 deg and Dec. 19.98333 deg.\n",
    "- Define the variable `width_deg` and `height_deg` to be 3 and 2 degrees, respectively.\n",
    "- Create a table `data0` using `Gaia.query_object_async` and setting the variables `coordinate`, `width`, `height` and `columns`. The variable columns is defined with:\n",
    "```\n",
    "gaia_columns = ['ra','dec','ra_error','dec_error','parallax','parallax_error','parallax_over_error','pmra','pmra_error','pmdec','pmdec_error','matched_observations','phot_g_mean_flux','phot_g_mean_flux_error','phot_g_mean_mag','phot_bp_mean_flux','phot_bp_mean_flux_error','phot_bp_mean_mag','phot_rp_mean_flux','phot_rp_mean_flux_error','phot_rp_mean_mag','bp_rp','bp_g','g_rp','radial_velocity','radial_velocity_error','teff_val','radius_val']\n",
    "```\n",
    "- How many entries does the table have? And how many columns?"
   ]
  },
  {
   "cell_type": "code",
   "execution_count": null,
   "id": "766863ee-0ccc-4ed1-9607-7380a4dd8694",
   "metadata": {},
   "outputs": [],
   "source": [
    "Gaia.ROW_LIMIT = -1  # To get all results\n",
    "Gaia.MAIN_GAIA_TABLE = \"gaiaedr3.gaia_source\"    # Select early Data Release 3"
   ]
  },
  {
   "cell_type": "code",
   "execution_count": null,
   "id": "012021fc-54ae-4024-8fc4-47f8a801e175",
   "metadata": {},
   "outputs": [],
   "source": [
    "# These are the columns we are interested in:\n",
    "gaia_columns = ['ra','dec','parallax','parallax_error','pmra','pmra_error','pmdec','pmdec_error','astrometric_matched_transits','phot_g_mean_flux','phot_g_mean_mag','phot_bp_mean_mag','phot_rp_mean_mag','bp_rp','bp_g','g_rp','dr2_radial_velocity','dr2_radial_velocity_error','dr2_rv_template_teff']"
   ]
  },
  {
   "cell_type": "markdown",
   "id": "34090a4c-8751-47a2-ac88-0bda0873a30f",
   "metadata": {},
   "source": [
    "### 🌪 Additional fun\n",
    "\n",
    "Instead of using the `Gaia` module, search Vizier with `Vizier.find_catalogs('edr3')` and retrieve the main Gaia EDR3 table with `astroquery.Vizier`. **Important** make sure to use `column_filters` to select the region you want. More info in https://astroquery.readthedocs.io/en/latest/vizier/vizier.html#query-a-region"
   ]
  },
  {
   "cell_type": "code",
   "execution_count": null,
   "id": "f719abbf-8e1d-48a8-95ee-eeb2e01bfbb5",
   "metadata": {},
   "outputs": [],
   "source": []
  },
  {
   "cell_type": "markdown",
   "id": "82e43039-96aa-4c53-893c-6d30574762bb",
   "metadata": {},
   "source": [
    "# Conclusion. In future episodes..."
   ]
  },
  {
   "cell_type": "code",
   "execution_count": null,
   "id": "59b7e697-bdbe-4fce-82c6-b30dd07acd6f",
   "metadata": {},
   "outputs": [],
   "source": [
    "fig, ax = plt.subplots(ncols=1, figsize=(14,8))\n",
    "\n",
    "ax.scatter(data0['ra'], data0['dec'], s=data0['phot_g_mean_flux']/1e5);\n",
    "ax.set_aspect('equal')\n",
    "\n",
    "# Here we invert the direction of the right ascension axis\n",
    "ax.invert_xaxis()\n",
    "\n",
    "ax.set_xlabel('Right Ascension [deg]')\n",
    "ax.set_ylabel('Declination [deg]');\n"
   ]
  }
 ],
 "metadata": {
  "kernelspec": {
   "display_name": "Python 3 (ipykernel)",
   "language": "python",
   "name": "python3"
  },
  "language_info": {
   "codemirror_mode": {
    "name": "ipython",
    "version": 3
   },
   "file_extension": ".py",
   "mimetype": "text/x-python",
   "name": "python",
   "nbconvert_exporter": "python",
   "pygments_lexer": "ipython3",
   "version": "3.10.0"
  }
 },
 "nbformat": 4,
 "nbformat_minor": 5
}
