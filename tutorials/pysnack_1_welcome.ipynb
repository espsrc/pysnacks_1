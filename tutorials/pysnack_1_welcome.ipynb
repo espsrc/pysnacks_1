{
 "cells": [
  {
   "cell_type": "markdown",
   "id": "02888ac2-1975-4993-9dbc-cb9907280d79",
   "metadata": {},
   "source": [
    "# Introduction to pysnacks 1: Introduction to Astronomical Data Science"
   ]
  },
  {
   "cell_type": "markdown",
   "id": "2efefb66-163e-48f8-85b1-9ca4f88e9312",
   "metadata": {},
   "source": [
    "## Objectives of the course"
   ]
  },
  {
   "cell_type": "markdown",
   "id": "953d9324-f664-43fe-9ccc-ed84786897aa",
   "metadata": {},
   "source": [
    "## What will we learn? What to expect\n",
    "- Manage and manipulate astronomical data with astropy\n",
    "- Working with coordinates and coordinate systems\n",
    "- Retrieve, access and load scientific data with astroquery\n",
    "- Data processing with pandas\n",
    "- Accessing catalogs using ADQL\n",
    "- Plotting with matplotlib. Histograms, all-sky projection plots"
   ]
  },
  {
   "cell_type": "markdown",
   "id": "cfa36849-3971-4776-a5ac-06a929a889e6",
   "metadata": {},
   "source": [
    "## Distribution of the sessions\n",
    "- In each session we will have 3 x 45min blocks\n",
    "\n",
    "Mainly practical content:\n",
    "- Guided examples and explanations\n",
    "- Inline exercises and time to solve them"
   ]
  },
  {
   "cell_type": "markdown",
   "id": "edbfcb3e-52a3-41b7-874c-bfd0d62851c7",
   "metadata": {},
   "source": [
    "# Exercises"
   ]
  },
  {
   "cell_type": "markdown",
   "id": "b6dc0946-39ba-4c3f-a806-ba8bb509db06",
   "metadata": {},
   "source": [
    "### ⛏ Exercise\n",
    "Generic exercise to learn the basics.\n",
    "\n",
    "### ✨ Exercise\n",
    "Exercise needed to explore our star cluster. Needed to progress in the analysis.\n",
    "\n",
    "\n",
    "### 🌪 Additional fun\n",
    "Additional exercises for advanced participants. These are challenges that need you to search additional information or develop mode core on your on. Not all these exercises will have explicit solutions, and are left for homework.\n"
   ]
  },
  {
   "cell_type": "markdown",
   "id": "9f5dfd5f-6de3-445c-811f-bc10271bccb7",
   "metadata": {},
   "source": [
    "# Brief introduction to JupyterLab\n",
    "\n",
    "If you want more information about JupyterLab interface, visit [The JupyterLab Interface](https://jupyterlab.readthedocs.io/en/stable/user/interface.html)."
   ]
  }
 ],
 "metadata": {
  "kernelspec": {
   "display_name": "Python 3 (ipykernel)",
   "language": "python",
   "name": "python3"
  },
  "language_info": {
   "codemirror_mode": {
    "name": "ipython",
    "version": 3
   },
   "file_extension": ".py",
   "mimetype": "text/x-python",
   "name": "python",
   "nbconvert_exporter": "python",
   "pygments_lexer": "ipython3",
   "version": "3.10.0"
  }
 },
 "nbformat": 4,
 "nbformat_minor": 5
}
