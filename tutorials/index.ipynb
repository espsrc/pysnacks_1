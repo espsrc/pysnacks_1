{
 "cells": [
  {
   "cell_type": "markdown",
   "metadata": {
    "tags": []
   },
   "source": [
    "# pySnacks 1\n",
    "\n",
    "## Welcome to the PySnacks course on Astronomical Data Science with Python\n",
    "\n",
    "### A Severo Ochoa Training initiative of the Instituto de Astrofísica de Andalucía (CSIC)\n",
    "-----\n",
    "\n",
    "### Workshop Tutorials\n",
    "\n",
    "- Tutorial 01 [notebook](./tutorial_01/pysnack_1_01.ipynb)\n",
    "\n",
    "- Tutorial 02 [notebook](./tutorial_02/pysnack_1_02.ipynb)\n",
    "    \n",
    "- Tutorial 03\n",
    "    \n",
    "- Tutorial 04"
   ]
  },
  {
   "cell_type": "code",
   "execution_count": null,
   "metadata": {},
   "outputs": [],
   "source": []
  }
 ],
 "metadata": {
  "kernelspec": {
   "display_name": "Python 3 (ipykernel)",
   "language": "python",
   "name": "python3"
  },
  "language_info": {
   "codemirror_mode": {
    "name": "ipython",
    "version": 3
   },
   "file_extension": ".py",
   "mimetype": "text/x-python",
   "name": "python",
   "nbconvert_exporter": "python",
   "pygments_lexer": "ipython3",
   "version": "3.10.0"
  }
 },
 "nbformat": 4,
 "nbformat_minor": 4
}
