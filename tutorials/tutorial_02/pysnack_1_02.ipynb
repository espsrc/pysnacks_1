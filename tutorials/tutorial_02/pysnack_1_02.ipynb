{
 "cells": [
  {
   "cell_type": "markdown",
   "id": "ec6fdc45-38aa-4bd2-948c-e3509690ee91",
   "metadata": {},
   "source": [
    "# Introduction to Astropy Tables"
   ]
  },
  {
   "cell_type": "markdown",
   "id": "f457bf7e-8a96-45e6-8860-f1ee4e1f51cf",
   "metadata": {},
   "source": [
    "## Astropy tables: columns and units"
   ]
  },
  {
   "cell_type": "code",
   "execution_count": null,
   "id": "c033c055-0caf-4dca-b6cc-0db6a8aaa55b",
   "metadata": {},
   "outputs": [],
   "source": [
    "import numpy as np\n",
    "import astropy.units as u\n",
    "from astropy.table import Table, QTable\n",
    "from astropy.coordinates import SkyCoord, Angle\n",
    "import matplotlib.pyplot as plt"
   ]
  },
  {
   "cell_type": "markdown",
   "id": "2d67dd53-f9bc-4801-a763-569899cd7a23",
   "metadata": {},
   "source": [
    "⚠️ `Table` with units have limited functionality. For full unit management, it is recommended to use `QTable`. For most applications, `Table` is enough, but if you have to manage and operate with columns with maximum compatibility with unit management, `QTable` is recommended. The caveat is that `QTables` are much more strict and slightly limited when dealing with other python modules, for example to work with matplotlib you constantly need to use `with quantity_support()`. More info in [Plotting Astropy objects in Matplotlib](https://docs.astropy.org/en/stable/visualization/matplotlib_integration.html)."
   ]
  },
  {
   "cell_type": "code",
   "execution_count": null,
   "id": "e7418079-1cc1-4470-b213-a9328e29fb66",
   "metadata": {},
   "outputs": [],
   "source": [
    "a = np.array([1, 4, 5], dtype=np.int32)\n",
    "b = [2.0, 5.0, 8.5] * u.cm\n",
    "c = ['x', 'y', 'z']\n",
    "d = [10, 20, 30] * u.m / u.s\n",
    "\n",
    "t = QTable([a, b, c, d],\n",
    "           names=('id', 'length', 'label', 'velocity'),\n",
    "           meta={'name': 'first table'})"
   ]
  },
  {
   "cell_type": "code",
   "execution_count": null,
   "id": "66a820f4-81ac-4f18-9d5f-0b2da5e5356a",
   "metadata": {},
   "outputs": [],
   "source": [
    "t"
   ]
  },
  {
   "cell_type": "code",
   "execution_count": null,
   "id": "e78cb028-b6bf-4e5d-b938-ff44c3614052",
   "metadata": {},
   "outputs": [],
   "source": [
    "t['velocity']"
   ]
  },
  {
   "cell_type": "code",
   "execution_count": null,
   "id": "c4a96ae0-d993-4162-a24d-4a95e90c1795",
   "metadata": {},
   "outputs": [],
   "source": [
    "t['velocity'][1]"
   ]
  },
  {
   "cell_type": "code",
   "execution_count": null,
   "id": "c3ab3a62-f0d3-4814-8784-82b5be1fd5a7",
   "metadata": {},
   "outputs": [],
   "source": [
    "t['velocity'][0:2]"
   ]
  },
  {
   "cell_type": "code",
   "execution_count": null,
   "id": "31ad325c-1335-4512-8dcc-c9f6ba876737",
   "metadata": {},
   "outputs": [],
   "source": [
    "t[2]"
   ]
  },
  {
   "cell_type": "code",
   "execution_count": null,
   "id": "bcf42d69-e324-4390-a46a-81a4aed45a43",
   "metadata": {},
   "outputs": [],
   "source": [
    "t['velocity'].unit"
   ]
  },
  {
   "cell_type": "markdown",
   "id": "cc873430-7c78-4fe1-be43-97488f027f62",
   "metadata": {},
   "source": [
    "## Obtaining information and statistics"
   ]
  },
  {
   "cell_type": "code",
   "execution_count": null,
   "id": "2947e70c-3597-4acb-a8f3-3b91cc1fde7b",
   "metadata": {},
   "outputs": [],
   "source": [
    "t.info"
   ]
  },
  {
   "cell_type": "code",
   "execution_count": null,
   "id": "e763e986-f54d-4550-ac54-5519d0b86b7b",
   "metadata": {},
   "outputs": [],
   "source": [
    "t.info('stats')"
   ]
  },
  {
   "cell_type": "code",
   "execution_count": null,
   "id": "cd8efa28-ae00-47d8-bce8-7f03b960cc36",
   "metadata": {},
   "outputs": [],
   "source": [
    "stats = t.info('stats', out=None)\n",
    "stats"
   ]
  },
  {
   "cell_type": "code",
   "execution_count": null,
   "id": "8e1670a4-2da3-46da-bee9-90ad3709b417",
   "metadata": {},
   "outputs": [],
   "source": [
    "stats[3]['mean']"
   ]
  },
  {
   "cell_type": "markdown",
   "id": "cf909f3c-ecf1-4919-bf9d-1efc15c5799d",
   "metadata": {},
   "source": [
    "## Time and coordinates"
   ]
  },
  {
   "cell_type": "code",
   "execution_count": null,
   "id": "fa7d76b1-cdd9-4e30-b887-379e68ab6d4e",
   "metadata": {},
   "outputs": [],
   "source": [
    "from astropy.time import Time\n",
    "from astropy.coordinates import SkyCoord\n",
    "\n",
    "Time.FORMATS"
   ]
  },
  {
   "cell_type": "code",
   "execution_count": null,
   "id": "032d79c0-04d6-412a-8092-13677f75feb5",
   "metadata": {},
   "outputs": [],
   "source": [
    "mjd = Time([56200.25, 56400.33, 57500.66, 58000], format='mjd', scale='utc')\n",
    "date = mjd.to_datetime()\n",
    "\n",
    "sc = SkyCoord([10, 20, 30, 40], [-45, +40, +55, 33], unit='deg')\n",
    "\n",
    "tab = QTable([mjd, date,  sc, sc.to_string('hmsdms')], names=['MJD', 'Date', 'skycoord', 'coord'])\n",
    "tab"
   ]
  },
  {
   "cell_type": "code",
   "execution_count": null,
   "id": "76082703-9af5-43af-8864-a1415971ba53",
   "metadata": {},
   "outputs": [],
   "source": [
    "tab['coord']"
   ]
  },
  {
   "cell_type": "markdown",
   "id": "37b5a798-c761-47a8-b2d0-2c462eed4368",
   "metadata": {},
   "source": [
    "## Managing table columns"
   ]
  },
  {
   "cell_type": "code",
   "execution_count": null,
   "id": "ba41de9b-bdd3-4c2e-9a6b-a6dfeda7ced7",
   "metadata": {},
   "outputs": [],
   "source": [
    "tab.columns"
   ]
  },
  {
   "cell_type": "code",
   "execution_count": null,
   "id": "745c4787-1e78-4e60-ba2c-bbd7d5bc7344",
   "metadata": {},
   "outputs": [],
   "source": [
    "tab.colnames"
   ]
  },
  {
   "cell_type": "markdown",
   "id": "cba53194-b9ba-4855-a8f9-521cec9ce670",
   "metadata": {},
   "source": [
    "Substitute column"
   ]
  },
  {
   "cell_type": "code",
   "execution_count": null,
   "id": "cba3215b-f2ba-45fc-9f33-2578025fe0e4",
   "metadata": {},
   "outputs": [],
   "source": [
    "tab['MJD'] = [56100, 56200, 56300, 56400]\n",
    "tab"
   ]
  },
  {
   "cell_type": "markdown",
   "id": "d3b2ef1a-0283-4b45-b489-47cfacdc4ec6",
   "metadata": {},
   "source": [
    "Create new column. Directly or with operations"
   ]
  },
  {
   "cell_type": "code",
   "execution_count": null,
   "id": "fdc6c42b-76b4-4a75-8415-166b835cb7f9",
   "metadata": {},
   "outputs": [],
   "source": [
    "tab['x'] = [1,2,3,4]\n",
    "tab['y'] = [10,20,30,40]\n",
    "tab"
   ]
  },
  {
   "cell_type": "code",
   "execution_count": null,
   "id": "4c6bf48d-4ea5-4fcc-aae5-553b7207c728",
   "metadata": {},
   "outputs": [],
   "source": [
    "tab['z'] = tab['x']*2 + tab['y']\n",
    "tab"
   ]
  },
  {
   "cell_type": "markdown",
   "id": "13149e3d-ed17-4a3c-86ab-05da011c0d40",
   "metadata": {},
   "source": [
    "Selection and slicing of relevant columns "
   ]
  },
  {
   "cell_type": "code",
   "execution_count": null,
   "id": "143966c5-77e6-4935-aef7-c01e8e682ee8",
   "metadata": {},
   "outputs": [],
   "source": [
    "tab['x']"
   ]
  },
  {
   "cell_type": "code",
   "execution_count": null,
   "id": "3b55ea00-048a-435a-97e2-cce761d637bf",
   "metadata": {},
   "outputs": [],
   "source": [
    "type(tab['x'])"
   ]
  },
  {
   "cell_type": "code",
   "execution_count": null,
   "id": "b664b4b4-450d-4367-b3dc-37945dc2633e",
   "metadata": {},
   "outputs": [],
   "source": [
    "tab['x'].data"
   ]
  },
  {
   "cell_type": "code",
   "execution_count": null,
   "id": "08c4f345-994e-447e-91eb-cc2c21c0e985",
   "metadata": {},
   "outputs": [],
   "source": [
    "tab['x'].mean()\n"
   ]
  },
  {
   "cell_type": "markdown",
   "id": "d5840fbc-95d8-455b-a2ad-9206e4a7732e",
   "metadata": {},
   "source": [
    "Select multiple columns"
   ]
  },
  {
   "cell_type": "code",
   "execution_count": null,
   "id": "f8913d30-924b-46d2-b01e-545552dc2a7e",
   "metadata": {},
   "outputs": [],
   "source": [
    "tab[['MJD', 'x', 'z']]\n"
   ]
  },
  {
   "cell_type": "code",
   "execution_count": null,
   "id": "991d0b1d-7cb2-43d5-b60b-79b1ac4873d9",
   "metadata": {},
   "outputs": [],
   "source": [
    "my_columns = ['x', 'y', 'z']\n",
    "tab[my_columns]"
   ]
  },
  {
   "cell_type": "markdown",
   "id": "1ba4b34c-d4a6-42fa-8786-934b948a54f7",
   "metadata": {},
   "source": [
    "## Data filtering"
   ]
  },
  {
   "cell_type": "code",
   "execution_count": null,
   "id": "8f8b58ae-20bc-47f9-81f4-b950887f6813",
   "metadata": {},
   "outputs": [],
   "source": [
    "selection = tab['y'] > 20\n",
    "selection"
   ]
  },
  {
   "cell_type": "code",
   "execution_count": null,
   "id": "8a58de53-2362-46b5-8e6c-29e18332eea2",
   "metadata": {},
   "outputs": [],
   "source": [
    "tab[selection]"
   ]
  },
  {
   "cell_type": "code",
   "execution_count": null,
   "id": "dc2f3e36-3f45-4725-bb63-6a6f44ba20bf",
   "metadata": {},
   "outputs": [],
   "source": [
    "tab['Date'][selection]"
   ]
  },
  {
   "cell_type": "code",
   "execution_count": null,
   "id": "15a8cd78-edd3-4225-bd85-d07a42f16794",
   "metadata": {},
   "outputs": [],
   "source": [
    "selection2 = (tab['x'] > 0) & (tab['MJD'] < 56400)\n",
    "selection2"
   ]
  },
  {
   "cell_type": "code",
   "execution_count": null,
   "id": "9d9ea146-47a9-4d91-a9ad-a5b4aa33625b",
   "metadata": {},
   "outputs": [],
   "source": [
    "tab[['MJD', 'skycoord', 'x']][selection2]"
   ]
  },
  {
   "cell_type": "markdown",
   "id": "c05c2c5a-dc0c-4429-8be0-5719f73ba99c",
   "metadata": {},
   "source": [
    "## Load our problem data from last session"
   ]
  },
  {
   "cell_type": "markdown",
   "id": "31312d59-c10e-47c6-9287-6e9f22c7c351",
   "metadata": {},
   "source": [
    "The Enhanced Character Separated Values table (`.ecsv`) format is a modified `csv` format that can handle metadata from astronomical tables and still keep the universaility and easy accessibility of `csv` files. It is able to store the data types, physical units and descriptions. It uses YAML, which is easy to read by humans and machines and can be opened with a plain text editor. It is not astronomy-specific. More details can be found in the [following link](https://github.com/astropy/astropy-APEs/blob/main/APE6.rst), including the comparison with other formats."
   ]
  },
  {
   "cell_type": "code",
   "execution_count": null,
   "id": "48a7d104-7ff3-4ba7-a06d-abec79ced3dc",
   "metadata": {},
   "outputs": [],
   "source": [
    "data0 = Table.read('../data/data0.ecsv')"
   ]
  },
  {
   "cell_type": "markdown",
   "id": "6403dc3a-b40d-4563-88de-737455939f91",
   "metadata": {},
   "source": [
    "⚠️  If you didn't create and save your own `data0` you can use the \"official\" data0 stored in the backup folder to be able to continue with this tutorial. Note that these commands will don't extract the \"official\" file if `data0.ecsv` already exists. If you want to discard your file and use the official one, first open a terminal and manually remove your `data0.ecsv`."
   ]
  },
  {
   "cell_type": "code",
   "execution_count": null,
   "id": "e683dfe7-03fa-4ae4-ba84-7869f09476b8",
   "metadata": {},
   "outputs": [],
   "source": [
    "#import os\n",
    "#if not os.path.isfile('../data/data0.ecsv'):\n",
    "#    print('Using official data0 file')\n",
    "#    os.system('unzip ../data/backup/data0.ecsv.zip')\n",
    "#    os.system('mv data0.ecsv ../data')\n",
    "#else:\n",
    "#    print('Doing nothing because ../data/data0.ecsv already exists')           "
   ]
  },
  {
   "cell_type": "markdown",
   "id": "2437b1ee-7bb2-40c4-b2c0-e6030c964f1a",
   "metadata": {
    "tags": []
   },
   "source": [
    "### ⛏ Exercise 2.1\n",
    "- Print the first 5 rows of the table with `data0[0:5]`.\n",
    "- Obtain a list of columns of the table `data0`.\n",
    "- Create a new table `my_table` containing only the columns Right Ascension, Declination, and the two proper motions, and the associated errors for all of them. You should obtain a table with 8 columns.\n",
    "- Obtain the description (column name, format, units and description) using .info() method.\n",
    "- Print the mean R.A. in degress and the median Declination in degrees.\n",
    "- Print the standard deviation (`np.std`) of the R.A. in arcseconds and of the Declination in arcmin.\n",
    "- Compute the minimum and maximum proper motion in right ascension in units of mas/yr\n",
    "- Compute the minimum and maximum proper motion in declination in units of arcmin/day\n",
    "- Create a new column `pm_error` in `my_table` with the total uncertainty in the position that accounts for the quadratic sum (`np.sqrt(()**2 + ()**2)`) of the uncertainty of the proper motion components in units of arcmin per minute.\n",
    "- Create a filter to select stars with `pmra_error` < 0.01.\n",
    "  - How many stars comply that condition?\n",
    "  - What is the mean `ra` and mean `de` of that subgroup?"
   ]
  },
  {
   "cell_type": "markdown",
   "id": "5365d42f-2e3a-4d0a-86da-dcb7c5c08ea9",
   "metadata": {},
   "source": [
    "### ✨ Exercise 2.2\n",
    "\n",
    "- Compute a new column for `data0` with the absolute magnitude in the `g` filter. Call the new column `Mg` and use the formula:  \n",
    "$M_{\\rm V} = m + 5log_{\\rm 10}p - 10$,  \n",
    "where $M_{\\rm V}$ is the absolute magnitude, $m$ is the apparent magnitude and $p$ is the stellar parallax in milliarcseconds.\n",
    "\n",
    "For example:\n",
    "\n",
    "Vega has a parallax $p$ of 0.129 arcsec, and an apparent magnitude $m_{\\rm V}$ of 0.03:  \n",
    "$M_{\\rm V} = 0.03 + 5log_{\\rm 10}129 - 10$ = 0.58\n",
    "\n",
    "The column containing the apparent magnitude in the Gaia band is called `phot_g_mean_mag`, and the parallax is `parallax`. The logarithm is computed as `np.log10(<relevant column>)`.\n",
    "\n",
    "You have more details, for instance, here: https://en.wikipedia.org/wiki/Absolute_magnitude#Examples\n",
    "\n",
    "- Print the first few rows of `data0` and make sure the new column is created.\n",
    "\n",
    "- Verify that your solution is right with this code:  \n",
    "`data0['Mg'][0] - 8.218870196400683 < 1e-5`"
   ]
  },
  {
   "cell_type": "markdown",
   "id": "037cd8a8-8d27-4c00-a047-9e488095674f",
   "metadata": {},
   "source": [
    "# Exploratory analysis\n",
    "## Visualization"
   ]
  },
  {
   "cell_type": "code",
   "execution_count": null,
   "id": "83a1f16e-af22-45e2-a2c6-78a9d1b0e8e7",
   "metadata": {},
   "outputs": [],
   "source": [
    "import matplotlib.pyplot as plt\n",
    "#from astropy.visualization import quantity_support   # If you use QTable, you will need this"
   ]
  },
  {
   "cell_type": "code",
   "execution_count": null,
   "id": "21d593cf-1825-4282-bdc5-378a295f2561",
   "metadata": {},
   "outputs": [],
   "source": [
    "plt.plot(data0['ra'],     # X variable\n",
    "         data0['dec'],    # Y variable\n",
    "         '.',             # marker, can also be 'o', '+', '>', 's', etc..\n",
    "         color='k',       # color k:black, g:green, r:red, b:blue, etc\n",
    "         alpha = 0.2,     # transparency, between 0 and 1\n",
    "         ms=1);           # marker size "
   ]
  },
  {
   "cell_type": "markdown",
   "id": "30e700d3-6e9b-4d97-a709-e2aba7f32216",
   "metadata": {},
   "source": [
    "This is not very informative. Let's create a `figure` and `axes` with `subplots`. Let's make the image bigger and use `scatter` to be able to set a symbol size `s` proportional to the flux of the star. We will also add some axes labels."
   ]
  },
  {
   "cell_type": "code",
   "execution_count": null,
   "id": "20d2254b-36b7-4a2c-94ed-588c79cdbe75",
   "metadata": {},
   "outputs": [],
   "source": [
    "fig, ax = plt.subplots(figsize=(15,10))\n",
    "\n",
    "# We use scatter here because it allows us to plot points with different sizes/colors\n",
    "ax.scatter(data0['ra'],\n",
    "           data0['dec'],\n",
    "           s = data0['phot_g_mean_flux']/1e5)  # Size of the data points, here proportional to the star flux\n",
    "\n",
    "ax.set_aspect('equal')\n",
    "\n",
    "# Here we invert the direction of the right ascension axis\n",
    "ax.invert_xaxis()\n",
    "\n",
    "ax.set_xlabel('Right Ascension [deg]')  # Write X axis label\n",
    "ax.set_ylabel('Declination [deg]');     # Write Y axis label"
   ]
  },
  {
   "cell_type": "markdown",
   "id": "4079d07a-4fc5-4636-b924-9f8bde7f2b51",
   "metadata": {},
   "source": [
    "We can plot any pair of variables. Here a quick plot without too many configuration for quick lookup."
   ]
  },
  {
   "cell_type": "code",
   "execution_count": null,
   "id": "6337cb49-4d9f-4fb2-b265-94f2bddf4f96",
   "metadata": {},
   "outputs": [],
   "source": [
    "fig, ax = plt.subplots(figsize=(8,6))\n",
    "\n",
    "ax.plot(data0['pmra'], data0['pmdec'], '.k')   # '.k' is used as an abbreviation for the format marker='.', color='k', ls='' (black points without lines)"
   ]
  },
  {
   "cell_type": "markdown",
   "id": "0bb5812a-a96c-4aa6-b6ad-5eb2581b3d11",
   "metadata": {},
   "source": [
    "Now we manually fix the X and Y limits so we can zoom in the relevant region"
   ]
  },
  {
   "cell_type": "code",
   "execution_count": null,
   "id": "627ecfdc-a05c-48f8-9ef7-3047d3d9ab1f",
   "metadata": {},
   "outputs": [],
   "source": [
    "fig, ax = plt.subplots(figsize=(8,6))\n",
    "\n",
    "ax.plot(data0['pmra'], data0['pmdec'], '.k')\n",
    "\n",
    "ax.set_xlim(-80, 60)\n",
    "ax.set_ylim(-80, 60);"
   ]
  },
  {
   "cell_type": "markdown",
   "id": "440f9a2b-b0d5-4e39-a6af-b969a20e83ff",
   "metadata": {},
   "source": [
    "Also we can use log scale when that is relevant."
   ]
  },
  {
   "cell_type": "code",
   "execution_count": null,
   "id": "6da66cca-ffb4-43c3-a538-2b4056e4562a",
   "metadata": {},
   "outputs": [],
   "source": [
    "fig, ax = plt.subplots(figsize=(8,6))\n",
    "\n",
    "ax.plot(data0['phot_g_mean_flux'],\n",
    "        data0['parallax_error'], '.k', ms=1, alpha=0.5)  # ms is markersize and alpha is the transparency, between 0 and 1\n",
    "\n",
    "ax.loglog();"
   ]
  },
  {
   "cell_type": "markdown",
   "id": "19096358-5567-40e5-957e-376dc540f717",
   "metadata": {},
   "source": [
    "But! Never forget to add labels to identify what you are plotting!"
   ]
  },
  {
   "cell_type": "code",
   "execution_count": null,
   "id": "ab4709ad-d023-4f55-a3d6-646e5bc2d310",
   "metadata": {},
   "outputs": [],
   "source": [
    "fig, ax = plt.subplots(figsize=(8,6))\n",
    "\n",
    "ax.plot(data0['phot_g_mean_flux'],\n",
    "        data0['parallax_error'], '.k', ms=1, alpha=0.5)\n",
    "\n",
    "ax.loglog()\n",
    "\n",
    "ax.set_xlabel('G-band mean flux [e/s]')\n",
    "ax.set_ylabel('Parallax error [mas]');"
   ]
  },
  {
   "cell_type": "markdown",
   "id": "0cb444ad-44a3-4351-bfee-61e8f25fe490",
   "metadata": {},
   "source": [
    "Tracking the axis label and units manually means that it is possible that we make mistakes. We can use the column information instead."
   ]
  },
  {
   "cell_type": "code",
   "execution_count": null,
   "id": "fcd30d93-b3c7-4b41-8dad-132188ab0659",
   "metadata": {},
   "outputs": [],
   "source": [
    "print(data0['phot_g_mean_flux'].description)\n",
    "print(data0['parallax_error'].unit)"
   ]
  },
  {
   "cell_type": "markdown",
   "id": "c8b071be-56b1-4bbe-b2b8-558d252cf2e7",
   "metadata": {},
   "source": [
    "### ⛏ Exercise 2.3\n",
    "- Repeat the plot above (phot_g_mean_flux vs parallax_error) but using the methods `.description` and `.unit` to write the x and y labels automatically.\n",
    "\n",
    "- Second, repeat the plot again but now make the script more generic, starting with the definition of the columns so you don't need to write the explicit column name more than once:\n",
    "\n",
    "```python\n",
    "col1 = 'phot_g_mean_flux'\n",
    "col2 = 'parallax_error'\n",
    "```"
   ]
  },
  {
   "cell_type": "markdown",
   "id": "d97c67b3-0a6e-48e4-b969-ae58ad72ec1a",
   "metadata": {},
   "source": [
    "### ⛏ Exercise 2.4\n",
    "- Repeat the plot with columns `phot_g_mean_mag`, `parallax`.\n",
    "- Can you interpret the line horizontal line with an overdensity of bright stars?\n",
    "- Compute the average parallax of the stars with <10. Define a variable `selection`\n",
    "- Repeat the plot but add a `ax.plot()` call to plot only the new selection.\n",
    "- Use the `np.mean` and `np.median` functions to find the mean and median parallax of the selection.\n",
    "\n",
    "Tip: you may not be able to compute the median because there are missing values and it produces a masked array. You can use the method `.compressed()` to the column selection to be able to compute `np.median`."
   ]
  },
  {
   "cell_type": "markdown",
   "id": "9bbf5dc5-8c76-40a3-ae75-da214e05aa5b",
   "metadata": {},
   "source": [
    "### 🌪 Additional fun\n",
    "Plot horizontal and vertical lines with ax.hline and ax.vline on the relevant magnitude and parallax computed in the previous exercise. You can use `ax.axvline` and/or `ax.axhline` functions."
   ]
  },
  {
   "cell_type": "markdown",
   "id": "13c0ee43-15ff-4da8-bb5e-9ba3196dc526",
   "metadata": {},
   "source": [
    "## Coordinate plots in sky projections"
   ]
  },
  {
   "cell_type": "code",
   "execution_count": null,
   "id": "c515cc85-56fa-4bd4-b902-69870022ead7",
   "metadata": {},
   "outputs": [],
   "source": [
    "fig = plt.figure(figsize=(8,6))\n",
    "ax = fig.add_subplot(111, projection=\"mollweide\")\n",
    "\n",
    "ax.scatter(data0['ra'].to(u.radian),\n",
    "           data0['dec'].to(u.radian), marker='.', color='r')\n",
    "\n",
    "ax.set_xticklabels(['14h','16h','18h','20h','22h','0h','2h','4h','6h','8h','10h'])\n",
    "ax.grid(True)"
   ]
  },
  {
   "cell_type": "markdown",
   "id": "ddecd90c-d547-4f9b-bcc9-d95485dae11e",
   "metadata": {},
   "source": [
    "Let's overplot the galactic plane"
   ]
  },
  {
   "cell_type": "code",
   "execution_count": null,
   "id": "e18be48f-ff9a-40fc-8e90-18750f0474b0",
   "metadata": {},
   "outputs": [],
   "source": [
    "galactic_plane = SkyCoord(l=np.arange(-180, 180),\n",
    "                          b=np.zeros(360),\n",
    "                          frame='galactic', unit=u.deg)\n",
    "\n",
    "galactic_plane_eq = galactic_plane.transform_to('icrs')\n",
    "gal_ra  = galactic_plane_eq.ra.wrap_at('180d').radian\n",
    "gal_dec = galactic_plane_eq.dec.radian\n",
    "\n",
    "fig = plt.figure(figsize=(8,6))\n",
    "ax = fig.add_subplot(111, projection=\"mollweide\")\n",
    "ax.scatter(data0['ra'].to(u.radian), data0['dec'].to(u.radian), marker='.', color='r')\n",
    "plt.plot(gal_ra, gal_dec, 'k.')\n",
    "\n",
    "ax.set_xticklabels(['14h','16h','18h','20h','22h','0h','2h','4h','6h','8h','10h'])\n",
    "ax.grid(True)"
   ]
  },
  {
   "cell_type": "markdown",
   "id": "13f035a6-2cef-4bd7-b100-85afd0622c31",
   "metadata": {},
   "source": [
    "### 🌪 Additional fun\n",
    "Make the previous plot but in Galactic coordinates"
   ]
  },
  {
   "cell_type": "markdown",
   "id": "0e57b1ee-9289-4e18-9751-43ef54c506af",
   "metadata": {},
   "source": [
    "### 🌪 Additional fun\n",
    "Prepare a plot `pmra` vs `pmdec` including errorbars using the matplotlib function `plt.errorbars`. The key point is to remove NaNs from the table.\n",
    "\n",
    "I suggest two possible ways of doing it:\n",
    "- Converting the table to a pandas `DataFrame` with `Table.to_pandas`, use the pandas method `.dropna()` to eliminate NaNs, and then convert back to an astropy `Table`. Of course you will lose the unit information.\n",
    "- The astropy Table columns have a method `.compressed` that converts the masked array into a normal array without the missing values. However, you also lose the unit information.\n",
    "\n",
    "I don't know any easy way to do this in astropy `Table` and keeping the units. [This PR](https://github.com/astropy/astropy/issues/7446) was an attempt, but was never finished."
   ]
  },
  {
   "cell_type": "markdown",
   "id": "f162a71a-5082-4163-bc6b-c2dbf14c63f6",
   "metadata": {},
   "source": [
    "## Histogram distributions"
   ]
  },
  {
   "cell_type": "code",
   "execution_count": null,
   "id": "8efeab83-c801-4b2d-a077-1106d7044a41",
   "metadata": {},
   "outputs": [],
   "source": [
    "fig, ax = plt.subplots(ncols=1, figsize=(10,8))\n",
    "\n",
    "ax.hist(data0['parallax'], bins=np.arange(-5, 15, 0.5))\n",
    "\n",
    "ax.set_xlabel('Parallax [mas]')\n",
    "ax.set_ylabel('Number of stars');"
   ]
  },
  {
   "cell_type": "markdown",
   "id": "2e9672db-ef87-4dcf-acbd-ca78b068d9b3",
   "metadata": {
    "tags": []
   },
   "source": [
    "### ⛏ Exercise 2.5\n",
    "\n",
    "Modify the line `ax.set_xlabel('Parallax [mas]')` to automatically find the units of the column being plotted. Do the same we did before when we defined the function `str_label()`."
   ]
  },
  {
   "cell_type": "code",
   "execution_count": null,
   "id": "8d74152d-35d1-4563-9a0f-4fc0bf2f85cb",
   "metadata": {},
   "outputs": [],
   "source": [
    "# Plot the same histogram as before but starting with the generic variable col1. Do not use 'parallax' in any other part\n",
    "col1 = 'parallax'"
   ]
  },
  {
   "cell_type": "markdown",
   "id": "d6a367e4-6915-4147-a4a2-9885f8389f60",
   "metadata": {},
   "source": [
    "### ✨ Exercise 2.6\n",
    "\n",
    "First of all, we see that there are negative parallaxes, which don't have physical meaning, but are a consequence of errors in the parallax determination. We can create a second `Table` named `data1` that ignores any negative parallax. We will use this table from now on.\n",
    "\n",
    "- Define the variable `positive_parallaxes` as those entries with parallax greater than 0. `data0['parallax'] > 0`. This is a boolean array saying, for each row, if that statement is True or False\n",
    "- Now select slice the table `data0` by selecting the rows with `True` values: data0[positive_parallaxes]. Assign that new table to `data1`.\n",
    "- Print the lenght of `data0` and `data1`. How many stars each one has? Use `len(data0)`, `len(data1)`\n"
   ]
  },
  {
   "cell_type": "markdown",
   "id": "36af280f-ade1-4374-a936-01a6720925c1",
   "metadata": {},
   "source": [
    "## Equivalencies\n",
    "Let's work with distances in kpc, that are more familiar to us. We will use an astropy unit transformation as before. However, an angle (mas) cannot be converted to distance (kpc) without knowing how the transformation should occur. We need to parse which equivalency to use to make the transormation.\n",
    "\n",
    "There is a lot of information in section [Equivalencies](https://docs.astropy.org/en/stable/units/equivalencies.html), for example to convert spectral units (nm to Hz) or conversions from wavelength/frequency/energy including doppler effect."
   ]
  },
  {
   "cell_type": "code",
   "execution_count": null,
   "id": "1ce85b2f-ffa7-4be2-b081-23eccd92a8cd",
   "metadata": {},
   "outputs": [],
   "source": [
    "data1['distance'] = data1['parallax'].to(u.kpc, equivalencies=u.parallax())\n",
    "data1['distance'].description = 'Distance from Earth'\n",
    "data1[0:3]"
   ]
  },
  {
   "cell_type": "markdown",
   "id": "72760658-f60e-4159-a87f-e6971cb88439",
   "metadata": {
    "tags": []
   },
   "source": [
    "### ⛏ Exercise 2.7\n",
    "\n",
    "Compute yourself the distance in kpc and check that the transformation has worked. Start by using the numpy array without units `np.array(data1['parallax'])` and transform it with the parallax formula $d [{\\rm kpc}]= \\frac{1}{p[{\\rm mas}]}$, where $p$ is the parallax. Compute the average of the residual `data1['distance'] - d_kpc`, where `d_kpc` is the manually computed distance in units of `kpc`."
   ]
  },
  {
   "cell_type": "markdown",
   "id": "78c8aaae-945f-430a-bc7b-475501468f03",
   "metadata": {},
   "source": [
    "### ✨ Exercise 2.8\n",
    "- Going back to the parallax distribution. Plot again the histogram of the `data[parallax]`, starting with `col1='parallax'`. Make the figure size slightly bigger, and use a smaller bin size. Try different `bins` selection either with `np.arange` (which fixes the step) or `np.linspace` (which fixes the number of steps) until you see some significant structure. Identify, approximately, the range of parallaxes that look interesting to you. (You can use `ax.set_xlim()` to tune the plot range).\n",
    "- Make a similar plot but with `col1='distance'`."
   ]
  },
  {
   "cell_type": "markdown",
   "id": "92988ea6-b65b-4d81-9c78-03fe490b2d22",
   "metadata": {},
   "source": [
    "We see a very interesting accummulation of stars at a parallax of approximately 5.2 mas. We can create a filter to select the start in that particular range. We will overplot the distribution of the whole sample and the one of the selected group. Check how many stars we have selected with the filter."
   ]
  },
  {
   "cell_type": "code",
   "execution_count": null,
   "id": "f38752c5-e985-4653-a6d7-1b881eb9136b",
   "metadata": {},
   "outputs": [],
   "source": [
    "manual_filter1 = (data1['parallax'] > 5.0*u.mas) & (data1['parallax'] < 5.7*u.mas)\n",
    "\n",
    "cluster1 = data1[manual_filter1]\n",
    "cluster1"
   ]
  },
  {
   "cell_type": "markdown",
   "id": "01fda95a-08f2-4476-9067-4e6b698fc5f0",
   "metadata": {},
   "source": [
    "There is an alternative way to deal with this problem. Instead of creating a new `Table` we could create a new Boolean column with True/False that indicates if each star is part of the cluster or not. We will not use this new column `cluster`, but it is good so we have all the information together."
   ]
  },
  {
   "cell_type": "code",
   "execution_count": null,
   "id": "22db2e05-2b2c-4caa-9073-c0d81fdf02c7",
   "metadata": {},
   "outputs": [],
   "source": [
    "data1['cluster'] = manual_filter1\n",
    "data1[0:3]"
   ]
  },
  {
   "cell_type": "markdown",
   "id": "a4779061-41b6-470e-aeb8-8632ca471455",
   "metadata": {},
   "source": [
    "The get the stars from the cluster we can simply select the rows matching the filter, i.e., selecting the `True` values. We could use `data1[manual_filter1]`, but we do not want to carry the filter around, it is better if the information is embedded in the table."
   ]
  },
  {
   "cell_type": "code",
   "execution_count": null,
   "id": "a3aa5a80-d6eb-4db9-930d-dc736b0829ad",
   "metadata": {},
   "outputs": [],
   "source": [
    "data1[data1['cluster']]  # This is exactly the same as cluster1"
   ]
  },
  {
   "cell_type": "markdown",
   "id": "cce0d681-b76b-46b8-b6a0-b3ee20212b06",
   "metadata": {},
   "source": [
    "We will not use the 'cluster' column. It is created here just for training purposes."
   ]
  },
  {
   "cell_type": "markdown",
   "id": "d9363bb2-e7d3-4552-9d32-164e63074047",
   "metadata": {},
   "source": [
    "### ✨ Exercise 2.9\n",
    "- Use the last two plots with the parallax and the distance distributions. Appart from the `data1`, add now the histograms for the table `cluster1`. You should see the two distributions overlapped.\n",
    "- Set the labels to 'Full sample' and 'Cluster', respectively.\n",
    "- Fine tune the data ranges as needed.\n",
    "- What is the approximate distance of the selected cluster?"
   ]
  },
  {
   "cell_type": "markdown",
   "id": "3a6b36f1-1db8-4a85-9534-420d51ae4b2d",
   "metadata": {},
   "source": [
    "### ✨ Exercise 2.10\n",
    "\n",
    "Create the `phot_g_mean_mag` vs `parallax_error` we did before, but including data from the two tables: `data1` in black and `cluster1` in red."
   ]
  },
  {
   "cell_type": "markdown",
   "id": "2a112076-ab9b-45cf-a7b6-ce803f590931",
   "metadata": {},
   "source": [
    "We see that the cluster is dominated by bright stars (lower magnitude), and form a sharp cluster in parallax/distance, as we already knew."
   ]
  },
  {
   "cell_type": "markdown",
   "id": "4146dda8-bc36-4904-9072-a360618baf2b",
   "metadata": {},
   "source": [
    "## Spatial distribution of the cluster\n",
    "We plot the distribution of start in the sky. First, all the stars in the sample are plotted in grey. The stars of the cluster are plotted in color, with the colorscale representing the distance from the Earth in pc."
   ]
  },
  {
   "cell_type": "code",
   "execution_count": null,
   "id": "00337c75-459b-4623-91fc-bded0dff7f7a",
   "metadata": {},
   "outputs": [],
   "source": [
    "fig, ax = plt.subplots(figsize=(15,10))\n",
    "ax.set_aspect('equal')\n",
    "\n",
    "ax.scatter(data1['ra'], data1['dec'], c='gray', s=1, alpha=0.5);\n",
    "l = ax.scatter(cluster1['ra'], cluster1['dec'], c=cluster1['distance']*1000., s=20);  # We save the variable l to be used in the colorbar\n",
    "\n",
    "ax.set_xlabel('Right Ascension [deg]')\n",
    "ax.set_ylabel('Declination [deg]');\n",
    "\n",
    "# Here we invert the direction of the right ascension axis\n",
    "ax.invert_xaxis()\n",
    "\n",
    "# Show the color bar\n",
    "cb = fig.colorbar(l);\n",
    "cb.set_label('Distance [kpc]')"
   ]
  },
  {
   "cell_type": "markdown",
   "id": "f8115bd0-6e1a-4c89-9e42-c890f67c1db4",
   "metadata": {},
   "source": [
    "Let's include the photometry information and use a different color for the `cluster1` stars."
   ]
  },
  {
   "cell_type": "code",
   "execution_count": null,
   "id": "a909de92-3eb8-4cea-ba4e-ff56bdc3532f",
   "metadata": {},
   "outputs": [],
   "source": [
    "fig, ax = plt.subplots(ncols=1, figsize=(15,10))\n",
    "ax.scatter(data0['ra'], data0['dec'], s=data0['phot_g_mean_flux']/1e5);\n",
    "ax.scatter(cluster1['ra'], cluster1['dec'], s=cluster1['phot_g_mean_flux']/1e5);\n",
    "\n",
    "ax.set_aspect('equal')\n",
    "\n",
    "# Here we invert the direction of the right ascension axis\n",
    "ax.invert_xaxis()\n",
    "\n",
    "ax.set_xlabel('Right Ascension [deg]')\n",
    "ax.set_ylabel('Declination [deg]');"
   ]
  },
  {
   "cell_type": "markdown",
   "id": "be89f04b-2f29-447c-897d-0ba6c6ccf029",
   "metadata": {},
   "source": [
    "### 🌪 Additional fun\n",
    "Repeat the previous plot by making it more general, using generic columns `col1`, `col2`, and automatic labels."
   ]
  },
  {
   "cell_type": "code",
   "execution_count": null,
   "id": "297000ec-4f8d-4dcf-8569-fcdf1abbd254",
   "metadata": {},
   "outputs": [],
   "source": []
  },
  {
   "cell_type": "markdown",
   "id": "d0d600b9-433c-4c26-9e81-931ad28c306d",
   "metadata": {},
   "source": [
    "There is no apparent pattern of the selected stars, although there seems to be an overdensity at the center, specially in Right Ascension."
   ]
  },
  {
   "cell_type": "code",
   "execution_count": null,
   "id": "59043871-0382-40a8-948d-4ef598f17a81",
   "metadata": {},
   "outputs": [],
   "source": [
    "fig, ax = plt.subplots(figsize=(8,6))\n",
    "\n",
    "ra_range = [np.min(data1['ra']), np.max(data1['ra'])]\n",
    "                 \n",
    "                                       \n",
    "ax.hist(data1['ra'],    bins=np.arange(ra_range[0], ra_range[1], 0.04), label='Full sample')\n",
    "ax.hist(cluster1['ra'], bins=np.arange(ra_range[0], ra_range[1], 0.12), label='Cluster')\n",
    "\n",
    "ax.set_xlabel('Right Ascension [deg]')\n",
    "ax.set_ylabel('Number of stars');\n",
    "\n",
    "ax.legend();"
   ]
  },
  {
   "cell_type": "code",
   "execution_count": null,
   "id": "d562f5c4-847f-41e9-ae93-64f5300e20f7",
   "metadata": {},
   "outputs": [],
   "source": [
    "fig, ax = plt.subplots( figsize=(8,6))\n",
    "\n",
    "de_range = [np.min(data1['dec']), np.max(data1['dec'])]\n",
    "\n",
    "ax.hist(data1['dec'],    bins=np.arange(de_range[0], de_range[1], 0.02), label='Full sample')\n",
    "ax.hist(cluster1['dec'], bins=np.arange(de_range[0], de_range[1], 0.08), label='Cluster')\n",
    "\n",
    "ax.set_xlabel('Declination [deg]')\n",
    "ax.set_ylabel('Number of stars');\n",
    "\n",
    "ax.legend();"
   ]
  },
  {
   "cell_type": "markdown",
   "id": "1d9a1dfc-873f-42da-827b-e55ce979851b",
   "metadata": {},
   "source": [
    "Nothing obvious or much interesting. The overdensity in the centre for R.A. is clear, but in Dec it is not clear, there may be a slope."
   ]
  },
  {
   "cell_type": "markdown",
   "id": "b33cd3ff-87f1-404e-9add-1a724a858f10",
   "metadata": {},
   "source": [
    "What it is clear is that the cluster is not easily identified in R.A. and Declination. We will need to explore more variables to characterize the cluster"
   ]
  },
  {
   "cell_type": "markdown",
   "id": "1e95dff6-c802-4436-8d3b-a7e18abeecb6",
   "metadata": {},
   "source": [
    "### ✨ Exercise 2.11\n",
    "\n",
    "Let's save the data sets for future use. Like in session 1, we will save them with `format='ascii.ecsv'`\n",
    "- Use method `data1.write()` to save the table in file `'../data/data1.ecsv'` with the correct format.\n",
    "- Use method `cluster1.write()` to save the table in file `'../data/cluster1.ecsv'` with the correct format."
   ]
  },
  {
   "cell_type": "markdown",
   "id": "a049c938-d4f9-42d2-b2f1-f8128c02eaa8",
   "metadata": {},
   "source": [
    "# Pandas tables"
   ]
  },
  {
   "cell_type": "code",
   "execution_count": null,
   "id": "ff9c75e2-9593-452d-9278-25bef472cae2",
   "metadata": {},
   "outputs": [],
   "source": [
    "import pandas as pd"
   ]
  },
  {
   "cell_type": "code",
   "execution_count": null,
   "id": "bca74229-609e-4402-9720-2c03eaa4f1de",
   "metadata": {},
   "outputs": [],
   "source": [
    "df1 = data1.to_pandas()\n",
    "df1"
   ]
  },
  {
   "cell_type": "markdown",
   "id": "bf423af0-d022-4f01-9a38-9070811da19a",
   "metadata": {},
   "source": [
    "## Exploring a pandas table"
   ]
  },
  {
   "cell_type": "code",
   "execution_count": null,
   "id": "36574f79-34dd-4224-87a5-71b4b63bf20a",
   "metadata": {},
   "outputs": [],
   "source": [
    "df1.head()"
   ]
  },
  {
   "cell_type": "markdown",
   "id": "1011ca30-0eed-4e27-8fdf-11464cc78f1e",
   "metadata": {},
   "source": [
    "The first thing we see is that we have lost the unit information. That is an important problem if we don't track the column operations properly."
   ]
  },
  {
   "cell_type": "code",
   "execution_count": null,
   "id": "9badb4e2-eedf-465f-a8e8-440480b2adf7",
   "metadata": {},
   "outputs": [],
   "source": [
    "df1.info()"
   ]
  },
  {
   "cell_type": "code",
   "execution_count": null,
   "id": "a7e46bed-915f-4ea0-ad9a-1bcdb428697d",
   "metadata": {},
   "outputs": [],
   "source": [
    "df1.columns"
   ]
  },
  {
   "cell_type": "code",
   "execution_count": null,
   "id": "af5f9bf7-fbbf-4956-8146-f5545ae6eebe",
   "metadata": {},
   "outputs": [],
   "source": [
    "df1['ra']\n",
    "df1[['ra','dec']]"
   ]
  },
  {
   "cell_type": "code",
   "execution_count": null,
   "id": "b072b3c7-89b1-45ff-b108-f8382f1f66bb",
   "metadata": {},
   "outputs": [],
   "source": [
    "df1['pmra'].values"
   ]
  },
  {
   "cell_type": "markdown",
   "id": "dd710832-12c4-4fe0-a86a-49109451daac",
   "metadata": {},
   "source": [
    "## Slicing"
   ]
  },
  {
   "cell_type": "markdown",
   "id": "8681c147-144f-4141-8278-67a0484dd449",
   "metadata": {},
   "source": [
    "To slice by index value:"
   ]
  },
  {
   "cell_type": "code",
   "execution_count": null,
   "id": "9408b5b7-9c23-4890-bd40-3234bdb82006",
   "metadata": {},
   "outputs": [],
   "source": [
    "df1.loc[3]"
   ]
  },
  {
   "cell_type": "markdown",
   "id": "0f3bc38b-e958-4eff-98d4-19de734c215e",
   "metadata": {},
   "source": [
    "To slice by index number:"
   ]
  },
  {
   "cell_type": "code",
   "execution_count": null,
   "id": "3319de34-50db-43c5-a20a-6cfec38e00e5",
   "metadata": {},
   "outputs": [],
   "source": [
    "df1.iloc[3]"
   ]
  },
  {
   "cell_type": "markdown",
   "id": "4563b9c7-d2b0-46eb-952d-efe328133c81",
   "metadata": {},
   "source": [
    "Can be combined with slices in one or several columns."
   ]
  },
  {
   "cell_type": "code",
   "execution_count": null,
   "id": "5d7f2680-4ba5-459d-8131-4bb8dcee5caa",
   "metadata": {},
   "outputs": [],
   "source": [
    "df1['pmra'].iloc[3]"
   ]
  },
  {
   "cell_type": "code",
   "execution_count": null,
   "id": "eaeee12e-e1d4-444b-bc8c-e5f985e4f36d",
   "metadata": {},
   "outputs": [],
   "source": [
    "df1.iloc[5:8]"
   ]
  },
  {
   "cell_type": "code",
   "execution_count": null,
   "id": "0bba936b-517c-4385-880f-2b2b102d45d1",
   "metadata": {},
   "outputs": [],
   "source": [
    "df1[['pmra','pmdec']].iloc[6]"
   ]
  },
  {
   "cell_type": "code",
   "execution_count": null,
   "id": "8cb69958-67f2-4903-b09f-4c3073753ffb",
   "metadata": {},
   "outputs": [],
   "source": [
    "df1[['pmra','pmdec']].iloc[6:10]"
   ]
  },
  {
   "cell_type": "markdown",
   "id": "540550a6-3089-48a3-a50e-6ebb39683d6d",
   "metadata": {},
   "source": [
    "## Pandas operations. Aggregate and groupby"
   ]
  },
  {
   "cell_type": "markdown",
   "id": "078cf5db-6de6-4f94-a02c-cab182d24c25",
   "metadata": {},
   "source": [
    "We can easily do operations to columns. First by aggregating values according to some functions"
   ]
  },
  {
   "cell_type": "code",
   "execution_count": null,
   "id": "614c9b28-84bd-402d-b31f-ebbf4566f676",
   "metadata": {},
   "outputs": [],
   "source": [
    "df1.aggregate(['sum', 'min'])"
   ]
  },
  {
   "cell_type": "code",
   "execution_count": null,
   "id": "237b1b35-f4bb-4006-95a4-68e0a35ccf27",
   "metadata": {},
   "outputs": [],
   "source": [
    "df1.aggregate({'ra' : ['mean', 'min', 'max', 'std'],\n",
    "               'dec' : ['mean', 'min', 'max', 'std'],\n",
    "               'parallax': 'std'})"
   ]
  },
  {
   "cell_type": "code",
   "execution_count": null,
   "id": "a7db3367-608b-45d4-9ce3-85a1cb170fdc",
   "metadata": {},
   "outputs": [],
   "source": [
    "df1.describe()"
   ]
  },
  {
   "cell_type": "code",
   "execution_count": null,
   "id": "b4c22af8-8cab-41fd-81c1-9fd2a5a4685b",
   "metadata": {},
   "outputs": [],
   "source": [
    "def my_func(row):\n",
    "    return np.sqrt(row['pmra']**2 + row['pmdec']**2)\n",
    "\n",
    "df1.apply(lambda row: my_func(row), axis=1)"
   ]
  },
  {
   "cell_type": "markdown",
   "id": "4ab2321e-36ef-4f38-bff9-4ac23b3dc2f6",
   "metadata": {},
   "source": [
    "Other cases\n",
    "- pivot tables\n",
    "- very powerful groupby\n",
    "- Complex conditions involving multiple columns"
   ]
  },
  {
   "cell_type": "markdown",
   "id": "785c5a2f-5885-411f-bcb7-ab495250ba33",
   "metadata": {},
   "source": [
    "NaN values"
   ]
  },
  {
   "cell_type": "code",
   "execution_count": null,
   "id": "e2f2271e-4536-454e-ae4c-55d0c726a569",
   "metadata": {},
   "outputs": [],
   "source": [
    "df1['dr2_radial_velocity'].isna().sum()"
   ]
  },
  {
   "cell_type": "code",
   "execution_count": null,
   "id": "fbf840b6-6077-4725-8774-bd96b89a6497",
   "metadata": {},
   "outputs": [],
   "source": [
    "df_rv = df1[['dr2_radial_velocity', 'parallax']].dropna()\n",
    "df_rv"
   ]
  },
  {
   "cell_type": "markdown",
   "id": "6fa06072-af81-48ec-80e3-772937bf04ab",
   "metadata": {},
   "source": [
    "Groupby"
   ]
  },
  {
   "cell_type": "code",
   "execution_count": null,
   "id": "e0d6e719-5534-404e-abc5-7a159e841e27",
   "metadata": {},
   "outputs": [],
   "source": [
    "df1.groupby('cluster').aggregate('mean')"
   ]
  },
  {
   "cell_type": "code",
   "execution_count": null,
   "id": "6ebdebe9-a71b-4663-82df-9832de9b5ead",
   "metadata": {},
   "outputs": [],
   "source": [
    "cluster1['astrometric_matched_transits'].description"
   ]
  },
  {
   "cell_type": "code",
   "execution_count": null,
   "id": "a086b206-9853-497d-9c1f-23c84d83dbf0",
   "metadata": {},
   "outputs": [],
   "source": [
    "df1['astrometric_matched_transits'].describe()"
   ]
  },
  {
   "cell_type": "markdown",
   "id": "02db779e-6899-40d5-855e-402f4ba3960a",
   "metadata": {},
   "source": [
    "Let's make many groups according to how many observations a star has."
   ]
  },
  {
   "cell_type": "code",
   "execution_count": null,
   "id": "656ee7f4-5bc4-4418-b281-f7e43e9a47c4",
   "metadata": {},
   "outputs": [],
   "source": [
    "df1.groupby('astrometric_matched_transits').aggregate(['mean','min'])[['parallax_error','pmra_error', 'pmdec_error']]"
   ]
  },
  {
   "cell_type": "code",
   "execution_count": null,
   "id": "890102f8-be50-4bf5-841f-e93624653889",
   "metadata": {},
   "outputs": [],
   "source": [
    "df1.groupby('astrometric_matched_transits').aggregate(['mean','min'])[['parallax_error']].plot()"
   ]
  },
  {
   "cell_type": "markdown",
   "id": "fbe60212-f0f3-42ef-99e1-1712125e808f",
   "metadata": {},
   "source": [
    "Working with datetime series"
   ]
  },
  {
   "cell_type": "code",
   "execution_count": null,
   "id": "0bc3b397-1e8d-460a-9444-a5a57dff3df8",
   "metadata": {},
   "outputs": [],
   "source": [
    "N = 100\n",
    "times = pd.date_range(\"2021-06-9\", periods=N, freq='D')\n",
    "\n",
    "ts = pd.DataFrame({'v1': np.random.normal(0.5,100,N) + 0.1*np.arange(N)**2,\n",
    "                   'v2': np.random.normal(0.5,100,N) - 0.1*np.arange(N)**2},\n",
    "                   index=times)\n",
    "ts"
   ]
  },
  {
   "cell_type": "code",
   "execution_count": null,
   "id": "a7214e58-e767-41b8-b62c-50bbb5cf2fa4",
   "metadata": {},
   "outputs": [],
   "source": [
    "ts.plot();"
   ]
  },
  {
   "cell_type": "markdown",
   "id": "04fee6f3-47eb-48d8-b494-7efd3a89087a",
   "metadata": {},
   "source": [
    "Other plots"
   ]
  },
  {
   "cell_type": "code",
   "execution_count": null,
   "id": "41bb6643-a16e-448b-a051-2eda1cf83d1f",
   "metadata": {},
   "outputs": [],
   "source": [
    "df1.plot.scatter(x='phot_g_mean_flux', y='parallax_error',  marker='.', s=0.5, alpha=0.1)\n",
    "plt.loglog();"
   ]
  },
  {
   "cell_type": "code",
   "execution_count": null,
   "id": "fb9d043b-7c51-433b-b56b-a28835001b2f",
   "metadata": {},
   "outputs": [],
   "source": [
    "plt.plot(data0['phot_g_mean_flux'], data0['parallax_error'], '.k', ms=1, alpha=0.1)\n",
    "plt.loglog();"
   ]
  },
  {
   "cell_type": "code",
   "execution_count": null,
   "id": "c2066dbd-ef7f-4091-8e97-9da9c26af0ea",
   "metadata": {},
   "outputs": [],
   "source": [
    "df1[['pmra','pmdec']].plot.hist(bins=np.arange(-80, 60, 3), alpha=0.5);"
   ]
  },
  {
   "cell_type": "code",
   "execution_count": null,
   "id": "e04a7018-d0e8-44c1-85ea-5007d950d59a",
   "metadata": {},
   "outputs": [],
   "source": [
    "df1[['phot_g_mean_mag','phot_bp_mean_mag','phot_rp_mean_mag']].plot.box();"
   ]
  },
  {
   "cell_type": "code",
   "execution_count": null,
   "id": "cb949df8-f5fa-45e0-a891-371c1c18dc0a",
   "metadata": {},
   "outputs": [],
   "source": [
    "df1[['phot_rp_mean_mag', 'phot_bp_mean_mag', 'phot_g_mean_mag']].plot.hist(bins = 80, alpha=0.8);"
   ]
  },
  {
   "cell_type": "code",
   "execution_count": null,
   "id": "fd5a117b-238f-4967-8eaf-c5d12afb9866",
   "metadata": {},
   "outputs": [],
   "source": [
    "df1.plot.hexbin(x='ra', y='dec', gridsize=20);"
   ]
  },
  {
   "cell_type": "code",
   "execution_count": null,
   "id": "52d79ceb-130f-4ac4-8ff9-425e58b651ba",
   "metadata": {},
   "outputs": [],
   "source": [
    "from pandas.plotting import scatter_matrix\n",
    "scatter_matrix(df1[['pmra_error','pmdec_error','pmra','pmdec']], alpha=0.2, diagonal='kde', figsize=(8,8));"
   ]
  },
  {
   "cell_type": "markdown",
   "id": "cd048510-264b-44b9-b851-cbe94321e455",
   "metadata": {},
   "source": [
    "Many more examples here: https://pandas.pydata.org/docs/user_guide/visualization.html"
   ]
  }
 ],
 "metadata": {
  "kernelspec": {
   "display_name": "Python 3 (ipykernel)",
   "language": "python",
   "name": "python3"
  },
  "language_info": {
   "codemirror_mode": {
    "name": "ipython",
    "version": 3
   },
   "file_extension": ".py",
   "mimetype": "text/x-python",
   "name": "python",
   "nbconvert_exporter": "python",
   "pygments_lexer": "ipython3",
   "version": "3.10.0"
  }
 },
 "nbformat": 4,
 "nbformat_minor": 5
}
